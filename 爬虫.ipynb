{
 "metadata": {
  "language_info": {
   "codemirror_mode": {
    "name": "ipython",
    "version": 3
   },
   "file_extension": ".py",
   "mimetype": "text/x-python",
   "name": "python",
   "nbconvert_exporter": "python",
   "pygments_lexer": "ipython3",
   "version": "3.7.4-final"
  },
  "orig_nbformat": 2,
  "kernelspec": {
   "name": "python3",
   "display_name": "Python 3"
  }
 },
 "nbformat": 4,
 "nbformat_minor": 2,
 "cells": [
  {
   "cell_type": "code",
   "execution_count": 7,
   "metadata": {},
   "outputs": [],
   "source": [
    "import time \n",
    "import requests\n",
    "import random\n",
    "import pymongo"
   ]
  },
  {
   "cell_type": "code",
   "execution_count": 8,
   "metadata": {},
   "outputs": [],
   "source": [
    "client = pymongo.MongoClient(host = '127.0.0.1' , port = 27017)\n",
    "db = client['spider']\n",
    "collection = db['lagou']"
   ]
  },
  {
   "cell_type": "code",
   "execution_count": 3,
   "metadata": {},
   "outputs": [],
   "source": [
    "def get_cookie():\n",
    "    headers = {\n",
    "        'Accept':'text/html,application/xhtml+xml,application/xml;q=0.9,image/avif,image/webp,image/apng,*/*;q=0.8,application/signed-exchange;v=b3;q=0.9',\n",
    "        'Accept-encoding': 'gzip, deflate, br',\n",
    "        'Accept-language': 'zh-CN,zh;q=0.9',\n",
    "        'Cache-Control': 'max-age=0',\n",
    "        'Upgrade-Insecure-Requests':'1',\n",
    "        'User-Agent':'Mozilla/5.0 (Windows NT 10.0; Win64; x64) AppleWebKit/537.36 (KHTML, like Gecko) Chrome/86.0.4240.183 Safari/537.36',\n",
    "    }\n",
    "    url = 'https://www.lagou.com/jobs/list_%E6%95%B0%E6%8D%AE%E5%88%86%E6%9E%90?labelWords=&fromSearch=true&suginput='\n",
    "    response = requests.get(url,headers = headers)\n",
    "    r = requests.utils.dict_from_cookiejar(response.cookies)\n",
    "    cookies = {\n",
    "        'user_trace_token':'20200925153131-85ace4b9-f600-44d7-8bc8-eed1c4004d17',\n",
    "        '_ga':'GA1.2.453135409.1601019090',\n",
    "        'LGUID':'20200925153131-881dcfaa-b37c-485c-8510-d8d3acdac2ca',\n",
    "        'JSESSIONID':'ABAAAECABFAACEAC0012F0A551229331D5F837D3577960C',\n",
    "        'WEBTJ-ID':'20201125154720-175fe5f0321631-0b10d22157783a-230346d-2073600-175fe5f032296d',\n",
    "        'RECOMMEND_TIP':'true',\n",
    "        'PRE_UTM':'',\n",
    "        'PRE_LAND':'https%3A%2F%2Fwww.lagou.com%2F',\n",
    "        'sajssdk_2015_cross_new_user':'1',\n",
    "        'sensorsdata2015session':'%7B%7D',\n",
    "        'Hm_lvt_4233e74dff0ae5bd0a3d81c6ccf756e6':'1606290441',\n",
    "        '_gid':'GA1.2.1395412730.1606290441',\n",
    "        'LGSID':'20201125154721-95d54f36-a25a-4ecc-994a-8fdc220d7444',\n",
    "        'PRE_HOST':'cn.bing.com',\n",
    "        'PRE_SITE':'https%3A%2F%2Fcn.bing.com%2F',\n",
    "        'index_location_city':'%E5%85%A8%E5%9B%BD',\n",
    "        'TG-TRACK-CODE':'index_search',\n",
    "        'SEARCH_ID':'dba037bc2c6e4eaba3d9fc7a1bf2b072',\n",
    "        'Hm_lpvt_4233e74dff0ae5bd0a3d81c6ccf756e6':'1606290475',                                                                'LGRID':'20201125154754-2509d411-86b3-4f8b-88a4-4ca71a263003',\n",
    "    }\n",
    "    cookies.update(r)\n",
    "\n",
    "    return cookies"
   ]
  },
  {
   "cell_type": "code",
   "execution_count": 4,
   "metadata": {},
   "outputs": [],
   "source": [
    "def crawl(city = '' , pn = 1 , cookies = None):\n",
    "    headers = {\n",
    "        'Accept': 'application/json, text/javascript, */*; q=0.01',\n",
    "        'Accept-Encoding': 'gzip, deflate, br',\n",
    "        'Accept-Language': 'zh-CN,zh;q=0.9',\n",
    "        'Content-Length': '55',\n",
    "        'Content-Type': 'application/x-www-form-urlencoded; charset=UTF-8',\n",
    "        'Origin': 'https://www.lagou.com',\n",
    "        'Sec-Fetch-Site': 'same-origin',\n",
    "        'User-Agent': 'Mozilla/5.0 (Windows NT 10.0; Win64; x64) AppleWebKit/537.36(KHTML, like Gecko) Chrome/86.0.4240.183 Safari/537.36',\n",
    "        'X-Anit-Forge-Code': '0',\n",
    "        'X-Anit-Forge-Token': 'None',\n",
    "        'X-Requested-With': 'XMLHttpRequest',\n",
    "        'Referer': 'https://www.lagou.com/jobs/list_%E6%95%B0%E6%8D%AE%E5%88%86%E6%9E%90?labelWords=&fromSearch=true&suginput='\n",
    "    }\n",
    "    params = (\n",
    "        ('px', 'default'),\n",
    "        ('city',city),\n",
    "        ('needAddtionalResult', 'false'),\n",
    "    )\n",
    "    data = {\"first\":\"true\",\n",
    "            'kd': '数据分析',\n",
    "            'pn': pn}\n",
    "    if pn>1 :\n",
    "        data['first'] = \"false\"\n",
    "    response = requests.post('https://www.lagou.com/jobs/positionAjax.json?needAddtionalResult=false',headers = headers , params = params , cookies = cookies , data = data )\n",
    "    return response.json()  "
   ]
  },
  {
   "cell_type": "code",
   "execution_count": 26,
   "metadata": {
    "tags": []
   },
   "outputs": [
    {
     "output_type": "stream",
     "name": "stdout",
     "text": [
      "长沙 start\n",
      "************************************************************\n",
      "长沙 end\n",
      "苏州 start\n",
      "{'status': False, 'msg': '您操作太频繁,请稍后再访问', 'clientIp': '211.95.30.250', 'state': 2402}\n",
      "************************************************************\n",
      "苏州 end\n",
      "天津 start\n",
      "{'status': False, 'msg': '您操作太频繁,请稍后再访问', 'clientIp': '211.95.30.250', 'state': 2402}\n",
      "************************************************************\n",
      "天津 end\n"
     ]
    }
   ],
   "source": [
    "\n",
    "# city_list = [\"北京\",\"上海\",\"深圳\",\"广州\",\"杭州\",\"成都\",\"南京\",\"武汉\",\"西安\",\"厦门\",\"长沙\",\"苏州\",\"天津\"]\n",
    "city_list = [\"长沙\",\"苏州\",\"天津\"]\n",
    "for city in city_list:\n",
    "    print(\"{} start\".format(city))\n",
    "    for i in range(1,31):\n",
    "        if (i-1) % 5 == 0:\n",
    "            cookies = get_cookie()\n",
    "        time.sleep(random.random() + random.randint(1,2))\n",
    "        resp_json = crawl(city=city,pn = i , cookies= cookies)\n",
    "        try:\n",
    "            position_list = resp_json['content']['positionResult']['result']\n",
    "        except:\n",
    "            print(resp_json)\n",
    "        if not position_list:\n",
    "            print('*'*60)\n",
    "            break\n",
    "        collection.insert_many(position_list)\n",
    "    print(\"{} end\".format(city))"
   ]
  }
 ]
}